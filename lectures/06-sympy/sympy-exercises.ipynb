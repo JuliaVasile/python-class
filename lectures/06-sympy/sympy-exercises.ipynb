{
 "cells": [
  {
   "cell_type": "markdown",
   "metadata": {},
   "source": [
    "# SymPy Exercises"
   ]
  },
  {
   "cell_type": "code",
   "execution_count": 2,
   "metadata": {},
   "outputs": [
    {
     "name": "stdout",
     "output_type": "stream",
     "text": [
      "IPython console for SymPy 1.2 (Python 3.7.2-64-bit) (ground types: gmpy)\n",
      "\n",
      "These commands were executed:\n",
      ">>> from __future__ import division\n",
      ">>> from sympy import *\n",
      ">>> x, y, z, t = symbols('x y z t')\n",
      ">>> k, m, n = symbols('k m n', integer=True)\n",
      ">>> f, g, h = symbols('f g h', cls=Function)\n",
      ">>> init_printing()\n",
      "\n",
      "Documentation can be found at http://docs.sympy.org/1.2/\n",
      "\n"
     ]
    }
   ],
   "source": [
    "import sympy as sym\n",
    "from sympy import init_session\n",
    "import math\n",
    "import numpy as np\n",
    "init_session()"
   ]
  },
  {
   "cell_type": "markdown",
   "metadata": {},
   "source": [
    "## Q1: Creating an expression\n",
    "\n",
    "Create the expression:\n",
    "$$f = x e^{-x} + x (1-x)$$\n",
    "Then evaluate it for \n",
    "$$x = 0, 0.1, 0.2, 0.4, 0.8$$"
   ]
  },
  {
   "cell_type": "code",
   "execution_count": 6,
   "metadata": {},
   "outputs": [
    {
     "name": "stdout",
     "output_type": "stream",
     "text": [
      "x*(-x + 1) + e**(-x)*x\n",
      "0\n",
      "0.180483741803596\n",
      "0.323746150615596\n",
      "0.508128018414256\n",
      "0.519463171293777\n"
     ]
    }
   ],
   "source": [
    "e = symbols('e')\n",
    "f = x*e**(-x)+x*(1-x)\n",
    "print(f)\n",
    "for val in [0,0.1,0.2,0.4,0.8]:\n",
    "    a = f.subs([(x,val),(e,np.e)])\n",
    "    print(a.evalf())\n",
    "\n",
    "\n",
    "    "
   ]
  },
  {
   "cell_type": "markdown",
   "metadata": {},
   "source": [
    "## Q2: Factoring a polynomial, and finding its roots\n",
    "\n",
    "Factor $$x^{4} - 6 x^{3} + x^{2} + 24 x + 16$$\n",
    "\n",
    "Then find its zeros."
   ]
  },
  {
   "cell_type": "code",
   "execution_count": 10,
   "metadata": {},
   "outputs": [
    {
     "name": "stdout",
     "output_type": "stream",
     "text": [
      "x**4 - 6*x**3 + x**2 + 24*x + 16\n",
      "(x - 4)**2*(x + 1)**2\n",
      "[(-1,), (4,)]\n",
      "{-1, 4}\n",
      "{4: 2, -1: 2}\n"
     ]
    }
   ],
   "source": [
    "f = x**4 - 6*x**3 + x**2 + 24*x + 16\n",
    "print(f)\n",
    "f.factor()\n",
    "\n",
    "expr = factor(x**4 - 6*(x**3) + (x**2) + 24*x + 16)\n",
    "print(expr)\n",
    "print(solve([expr], x))\n",
    "\n",
    "x = sym.symbols(\"x\")\n",
    "f = x**4 - 6*x**3 + x**2 + 24*x + 16\n",
    "print(solveset(f, x))\n",
    "print(roots(f))"
   ]
  },
  {
   "cell_type": "markdown",
   "metadata": {},
   "source": [
    "## Q3: Integratation and differentiation\n",
    "\n",
    "Integrate the function:\n",
    "$$\n",
    "f = \\sin(x) e^{-x}\n",
    "$$\n",
    "\n",
    "Then differentiate the result to see if you get back the original function"
   ]
  },
  {
   "cell_type": "code",
   "execution_count": 12,
   "metadata": {},
   "outputs": [
    {
     "name": "stdout",
     "output_type": "stream",
     "text": [
      "-exp(-x)*sin(x)/2 - exp(-x)*cos(x)/2\n",
      "exp(-x)*sin(x)\n"
     ]
    },
    {
     "data": {
      "image/png": "[encoded data removed]",
      "text/latex": [
       "$$0$$"
      ],
      "text/plain": [
       "0"
      ]
     },
     "execution_count": 12,
     "metadata": {},
     "output_type": "execute_result"
    }
   ],
   "source": [
    "f = sin(x)*exp(-x)\n",
    "fint = integrate(f, x)\n",
    "print(fint)\n",
    "dfint = diff(fint, x)\n",
    "print(dfint)\n",
    "simplify(dfint-f)"
   ]
  },
  {
   "cell_type": "markdown",
   "metadata": {},
   "source": [
    "## Q4: Parsing an expression\n",
    "\n",
    "Write a program that reads in a mathematical expression as a string (e.g., `\"sin(2*pi*x)\"`), converts it to a SymPy expression, and then evaluates it as needed.  \n",
    "\n",
    "Have your program either make a plot of the entered function, or use the input function as the function to fit a dataset to using curvefit.\n",
    "\n",
    "The following will be helpful:"
   ]
  },
  {
   "cell_type": "markdown",
   "metadata": {},
   "source": [
    "`parse_expr()` will convert a string into a SymPy expression"
   ]
  },
  {
   "cell_type": "code",
   "execution_count": 14,
   "metadata": {},
   "outputs": [],
   "source": [
    "from sympy.parsing.sympy_parser import parse_expr"
   ]
  },
  {
   "cell_type": "code",
   "execution_count": 20,
   "metadata": {},
   "outputs": [
    {
     "name": "stdout",
     "output_type": "stream",
     "text": [
      "sin(2*pi*x)\n"
     ]
    }
   ],
   "source": [
    "s = \"sin(2*pi*x)\"\n",
    "#print(type(s))\n",
    "a = parse_expr(s)\n",
    "print(a)\n",
    "#print(type(a))\n"
   ]
  },
  {
   "cell_type": "markdown",
   "metadata": {},
   "source": [
    "`sympy.lambdify()` will convert a SymPy expression into a function that is callable by python.  You can make it a numpy-compatible function too (this means, e.g., that any `sin()` in your SymPy expression will be evaluate using `np.sin()`)"
   ]
  },
  {
   "cell_type": "code",
   "execution_count": 4,
   "metadata": {},
   "outputs": [],
   "source": [
    "f = sym.lambdify(x, a, \"numpy\")"
   ]
  },
  {
   "cell_type": "code",
   "execution_count": 5,
   "metadata": {},
   "outputs": [
    {
     "data": {
      "image/png": "[encoded data removed]",
      "text/latex": [
       "$$-2.44929359829e-16$$"
      ],
      "text/plain": [
       "-2.44929359829e-16"
      ]
     },
     "execution_count": 5,
     "metadata": {},
     "output_type": "execute_result"
    }
   ],
   "source": [
    "f(1.0)"
   ]
  },
  {
   "cell_type": "code",
   "execution_count": 6,
   "metadata": {},
   "outputs": [
    {
     "name": "stdout",
     "output_type": "stream",
     "text": [
      "Help on function lambdify in module sympy.utilities.lambdify:\n",
      "\n",
      "lambdify(args, expr, modules=None, printer=None, use_imps=True, dummify=True)\n",
      "    Returns a lambda function for fast calculation of numerical values.\n",
      "    \n",
      "    If not specified differently by the user, SymPy functions are replaced as\n",
      "    far as possible by either python-math, numpy (if available) or mpmath\n",
      "    functions - exactly in this order. To change this behavior, the \"modules\"\n",
      "    argument can be used. It accepts:\n",
      "    \n",
      "     - the strings \"math\", \"mpmath\", \"numpy\", \"numexpr\", \"sympy\"\n",
      "     - any modules (e.g. math)\n",
      "     - dictionaries that map names of sympy functions to arbitrary functions\n",
      "     - lists that contain a mix of the arguments above, with higher priority\n",
      "       given to entries appearing first.\n",
      "    \n",
      "    The default behavior is to substitute all arguments in the provided\n",
      "    expression with dummy symbols. This allows for applied functions (e.g.\n",
      "    f(t)) to be supplied as arguments. Call the function with dummify=False if\n",
      "    dummy substitution is unwanted (and `args` is not a string). If you want\n",
      "    to view the lambdified function or provide \"sympy\" as the module, you\n",
      "    should probably set dummify=False.\n",
      "    \n",
      "    For functions involving large array calculations, numexpr can provide a\n",
      "    significant speedup over numpy.  Please note that the available functions\n",
      "    for numexpr are more limited than numpy but can be expanded with\n",
      "    implemented_function and user defined subclasses of Function.  If specified,\n",
      "    numexpr may be the only option in modules. The official list of numexpr\n",
      "    functions can be found at:\n",
      "    https://github.com/pydata/numexpr#supported-functions\n",
      "    \n",
      "    In previous releases ``lambdify`` replaced ``Matrix`` with ``numpy.matrix``\n",
      "    by default. As of release 1.0 ``numpy.array`` is the default.\n",
      "    To get the old default behavior you must pass in ``[{'ImmutableMatrix':\n",
      "    numpy.matrix}, 'numpy']`` to the ``modules`` kwarg.\n",
      "    \n",
      "    >>> from sympy import lambdify, Matrix\n",
      "    >>> from sympy.abc import x, y\n",
      "    >>> import numpy\n",
      "    >>> array2mat = [{'ImmutableMatrix': numpy.matrix}, 'numpy']\n",
      "    >>> f = lambdify((x, y), Matrix([x, y]), modules=array2mat)\n",
      "    >>> f(1, 2)\n",
      "    matrix([[1],\n",
      "            [2]])\n",
      "    \n",
      "    Usage\n",
      "    =====\n",
      "    \n",
      "    (1) Use one of the provided modules:\n",
      "    \n",
      "        >>> from sympy import sin, tan, gamma\n",
      "        >>> from sympy.utilities.lambdify import lambdastr\n",
      "        >>> from sympy.abc import x, y\n",
      "        >>> f = lambdify(x, sin(x), \"math\")\n",
      "    \n",
      "        Attention: Functions that are not in the math module will throw a name\n",
      "                   error when the lambda function is evaluated! So this would\n",
      "                   be better:\n",
      "    \n",
      "        >>> f = lambdify(x, sin(x)*gamma(x), (\"math\", \"mpmath\", \"sympy\"))\n",
      "    \n",
      "    (2) Use some other module:\n",
      "    \n",
      "        >>> import numpy\n",
      "        >>> f = lambdify((x,y), tan(x*y), numpy)\n",
      "    \n",
      "        Attention: There are naming differences between numpy and sympy. So if\n",
      "                   you simply take the numpy module, e.g. sympy.atan will not be\n",
      "                   translated to numpy.arctan. Use the modified module instead\n",
      "                   by passing the string \"numpy\":\n",
      "    \n",
      "        >>> f = lambdify((x,y), tan(x*y), \"numpy\")\n",
      "        >>> f(1, 2)\n",
      "        -2.18503986326\n",
      "        >>> from numpy import array\n",
      "        >>> f(array([1, 2, 3]), array([2, 3, 5]))\n",
      "        [-2.18503986 -0.29100619 -0.8559934 ]\n",
      "    \n",
      "    (3) Use a dictionary defining custom functions:\n",
      "    \n",
      "        >>> def my_cool_function(x): return 'sin(%s) is cool' % x\n",
      "        >>> myfuncs = {\"sin\" : my_cool_function}\n",
      "        >>> f = lambdify(x, sin(x), myfuncs); f(1)\n",
      "        'sin(1) is cool'\n",
      "    \n",
      "    Examples\n",
      "    ========\n",
      "    \n",
      "    >>> from sympy.utilities.lambdify import implemented_function\n",
      "    >>> from sympy import sqrt, sin, Matrix\n",
      "    >>> from sympy import Function\n",
      "    >>> from sympy.abc import w, x, y, z\n",
      "    \n",
      "    >>> f = lambdify(x, x**2)\n",
      "    >>> f(2)\n",
      "    4\n",
      "    >>> f = lambdify((x, y, z), [z, y, x])\n",
      "    >>> f(1,2,3)\n",
      "    [3, 2, 1]\n",
      "    >>> f = lambdify(x, sqrt(x))\n",
      "    >>> f(4)\n",
      "    2.0\n",
      "    >>> f = lambdify((x, y), sin(x*y)**2)\n",
      "    >>> f(0, 5)\n",
      "    0.0\n",
      "    >>> row = lambdify((x, y), Matrix((x, x + y)).T, modules='sympy')\n",
      "    >>> row(1, 2)\n",
      "    Matrix([[1, 3]])\n",
      "    \n",
      "    Tuple arguments are handled and the lambdified function should\n",
      "    be called with the same type of arguments as were used to create\n",
      "    the function.:\n",
      "    \n",
      "    >>> f = lambdify((x, (y, z)), x + y)\n",
      "    >>> f(1, (2, 4))\n",
      "    3\n",
      "    \n",
      "    A more robust way of handling this is to always work with flattened\n",
      "    arguments:\n",
      "    \n",
      "    >>> from sympy.utilities.iterables import flatten\n",
      "    >>> args = w, (x, (y, z))\n",
      "    >>> vals = 1, (2, (3, 4))\n",
      "    >>> f = lambdify(flatten(args), w + x + y + z)\n",
      "    >>> f(*flatten(vals))\n",
      "    10\n",
      "    \n",
      "    Functions present in `expr` can also carry their own numerical\n",
      "    implementations, in a callable attached to the ``_imp_``\n",
      "    attribute.  Usually you attach this using the\n",
      "    ``implemented_function`` factory:\n",
      "    \n",
      "    >>> f = implemented_function(Function('f'), lambda x: x+1)\n",
      "    >>> func = lambdify(x, f(x))\n",
      "    >>> func(4)\n",
      "    5\n",
      "    \n",
      "    ``lambdify`` always prefers ``_imp_`` implementations to implementations\n",
      "    in other namespaces, unless the ``use_imps`` input parameter is False.\n",
      "\n"
     ]
    }
   ],
   "source": [
    "help(lambdify)"
   ]
  },
  {
   "cell_type": "code",
   "execution_count": null,
   "metadata": {},
   "outputs": [],
   "source": [
    "%matplotlib inline\n",
    "\n",
    "import matplotlib\n",
    "import numpy as np\n",
    "import matplotlib.pyplot as plt\n",
    "from scipy.optimize import curve_fit\n",
    "\n",
    "def eval_expr(s, xval, plot=False, fit=False, ydata=[], funcvars=(), fitparams=[]):\n",
    "    '''\n",
    "    Reads in a string s and parses as a sympy expression to be evaluated at an array xval.\n",
    "    If plot and fit are false, returns the array of function values.\n",
    "    If plot is true and fit is false, plots the xval and f(xval) arrays as x and y.\n",
    "    If plot if false and fit is true, it depends on inputting ydata to fit to. \n",
    "        It fits accordings to the parsed function and just returns the parameters and covariance matrix.\n",
    "    If both are true, it plots the graph of the fit and returns the parameters and covariance matrix.\n",
    "    \n",
    "    funcvars is a tuple, and depends on the fit parameters having already been made symbols in sympy\n",
    "        before the call, or else the string parsing won't be able to create the expression.\n",
    "    fitparams is a list of initial guesses to whatever fit parameters you've included.\n",
    "    '''\n",
    "    a = parse_expr(s)\n",
    "    if plot == True and fit == False:\n",
    "        f = sym.lambdify(x, a, 'numpy')\n",
    "        fig = plt.figure()\n",
    "        ax = fig.add_subplot(111)\n",
    "        ax.plot(xval, f(xval))\n",
    "        plt.show()\n",
    "        return\n",
    "    elif plot == True and fit == True:\n",
    "        f = sym.lambdify(funcvars, a, 'numpy')\n",
    "        popt, pcov = curve_fit(f, xval, ydata, p0=fitparams)\n",
    "        perr = np.sqrt(np.diag(pcov))\n",
    "        fig = plt.figure()\n",
    "        ax = fig.add_subplot(111)\n",
    "        ax.plot(xval, f(xval, *popt), linestyle='--', label=\"Fit\")\n",
    "        ax.scatter(xval, ydata, label=\"Data\", marker='x', color='k')\n",
    "        ax.legend()\n",
    "        for i in range(len(popt)):\n",
    "            print('parameter {} = {} +- {}'.format(i, popt[i], perr[i]))\n",
    "        plt.show()\n",
    "        return (popt, pcov)\n",
    "    elif plot == False and fit == True:\n",
    "        f = sym.lambdify(funcvars, a, 'numpy')\n",
    "        popt, pcov = curve_fit(f, xval, ydata, p0=fitparams)\n",
    "        return (popt, pcov)\n",
    "    else:\n",
    "        f = sym.lambdify(x, a, 'numpy')\n",
    "        return f(xval)\n",
    "\n",
    "xvals = np.linspace(-10, 10, 100)\n",
    "yvals = np.exp(-(xvals-0.5*np.random.randn(len(xvals)))**2)\n",
    "A, sig, mu = symbols('A sig mu')\n",
    "eval_expr(\"A*exp(-((x-mu)**2)/sig)\", xvals, plot=True, fit=True, ydata=yvals, funcvars=(x, A, sig, mu),\n",
    "         fitparams=[1.0, 0.5, 1.0])\n",
    "\n"
   ]
  },
  {
   "cell_type": "code",
   "execution_count": 21,
   "metadata": {},
   "outputs": [],
   "source": [
    "from sympy.parsing.sympy_parser import parse_expr\n",
    "\n",
    "def converter(str, lower, upper):\n",
    "    \"\"\"Converts a string str into a SymPy expression and plots the corresponding function \n",
    "    between integers lower and upper\n",
    "    input: string str, integers lower and upper\n",
    "    output: no output, a plot is created\"\"\"\n",
    "    a = parse_expr(str)\n",
    "    f = sym.lambdify(x, a, \"numpy\")\n",
    "    t = np.linspace(lower,upper, num=100)\n",
    "    plt.plot(t, f(t))\n",
    "    plt.xlabel(r\"$x$\")\n",
    "    plt.ylabel(str, fontsize=\"x-large\")\n",
    "    \n",
    "converter(\"x**3\", 0,5)\n"
   ]
  },
  {
   "cell_type": "markdown",
   "metadata": {},
   "source": [
    "## Q5: Units\n",
    "\n",
    "SymPy can deal with physical units.  See:\n",
    "\n",
    "http://docs.sympy.org/latest/modules/physics/units/quantities.html\n",
    "\n",
    "Let's try this out.  Newton's 2nd law is\n",
    "$$F = ma$$\n",
    "\n",
    "Create a mass of 1 kg and an acceleration of 10 m/s$^2$, and compute the force, $F$, and express the result in Newtons.\n",
    "\n",
    "Note: the `convert_to` function was added in SymPy 1.1, so if you are using an earlier version, you will need to divide by the target unit to do the conversion."
   ]
  },
  {
   "cell_type": "code",
   "execution_count": 23,
   "metadata": {},
   "outputs": [
    {
     "data": {
      "image/png": "[encoded data removed]",
      "text/latex": [
       "$$10 newton$$"
      ],
      "text/plain": [
       "10⋅newton"
      ]
     },
     "execution_count": 23,
     "metadata": {},
     "output_type": "execute_result"
    }
   ],
   "source": [
    "from sympy.physics.units import kilogram, newton, meter, second\n",
    "from sympy.physics.units import convert_to\n",
    "F, m, a = symbols('F m a')\n",
    "m = 1*kilogram\n",
    "a = 10*meter/second**2\n",
    "F = m*a\n",
    "convert_to(F,newton)"
   ]
  },
  {
   "cell_type": "code",
   "execution_count": null,
   "metadata": {},
   "outputs": [],
   "source": []
  }
 ],
 "metadata": {
  "kernelspec": {
   "display_name": "Python 3",
   "language": "python",
   "name": "python3"
  },
  "language_info": {
   "codemirror_mode": {
    "name": "ipython",
    "version": 3
   },
   "file_extension": ".py",
   "mimetype": "text/x-python",
   "name": "python",
   "nbconvert_exporter": "python",
   "pygments_lexer": "ipython3",
   "version": "3.7.2"
  }
 },
 "nbformat": 4,
 "nbformat_minor": 1
}
